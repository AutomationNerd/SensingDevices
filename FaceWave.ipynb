{
 "cells": [
  {
   "cell_type": "code",
   "execution_count": null,
   "id": "b9599955",
   "metadata": {},
   "outputs": [],
   "source": [
    "import cv2\n",
    "import numpy as np\n",
    "import os\n",
    "from random import shuffle \n",
    "import tqdm from tqdm \n",
    "\n",
    "TRAIN_DIR = ''\n",
    "TEST_DIR = ''\n",
    "IMG_SIZE = 50\n",
    "LR = 1e-3\n",
    "\n",
    "MODEL_NAME = 'rabbitvshare-{}-{}.model'.format(LR, '6conv.basic-video')"
   ]
  },
  {
   "cell_type": "code",
   "execution_count": null,
   "id": "e8b7e5ea",
   "metadata": {},
   "outputs": [],
   "source": [
    "def label_img(img):\n",
    "    word_label = img.split('.')[-3]\n",
    "    if word_label == 'rabbit': return [1,0]\n",
    "    elif word_label == 'hare': return [0,1]"
   ]
  },
  {
   "cell_type": "code",
   "execution_count": null,
   "id": "9f98d9c7",
   "metadata": {},
   "outputs": [],
   "source": [
    "def create_train_data()\n",
    "training_data = []\n",
    "for img in tqdm(os.listdir(TRAIN_DIR)):\n",
    "    label = label_img(img)\n",
    "    path = os.path.join(TRAIN_DIR,img)\n",
    "    img = cv2.resize(imread(path, cv2.IMREAD_GRAYSCALE),(IMG_SIZE,IMG_SIZE))\n",
    "    trianing_data.append([np.array(img),np.array(label)])\n",
    "    shuffle(training_data)\n",
    "    np.save('train_data.npy', training_data)\n",
    "    return training_data \n",
    "\n",
    "    "
   ]
  },
  {
   "cell_type": "code",
   "execution_count": null,
   "id": "96a768cd",
   "metadata": {},
   "outputs": [],
   "source": [
    "def process_test_dat():\n",
    "    testing_data = []\n",
    "    for img in tqdm(os.listdir(TEST_DIR)):\n",
    "        path = os.path.join(TEST_DIR)\n",
    "        img_num = img.split('.')[0]\n",
    "        img = cv2.resize(cv2.imread(path,cv2.IMREAD_GRAYSCALE), (IMG_SIZE,IMG_SIZE))\n",
    "        testing_data.append([np.array(img), img_num])\n",
    "        \n",
    "        np.save('test_data.npy',testing_data)\n",
    "        return testing_data"
   ]
  },
  {
   "cell_type": "code",
   "execution_count": null,
   "id": "12dbd32a",
   "metadata": {},
   "outputs": [],
   "source": [
    "train_data = create_train_data()"
   ]
  },
  {
   "cell_type": "code",
   "execution_count": null,
   "id": "7afea463",
   "metadata": {},
   "outputs": [],
   "source": [
    "import tflearn\n",
    "from tflearn.layers.conv import conv_2d, max_pool_2d\n",
    "from tflearn.layers.core import input_data, dropout, fully_connected\n",
    "from tflearn.layers.estimator import regression\n",
    "\n",
    "import tensorflow as tf\n",
    "tf.rest_default_graph()\n",
    "\n",
    "convnet = input_data(shape=[None, IMG_SIZE, IMG_SIZE, 1], name='input')\n",
    "\n",
    "convnet = conv_2d(convnet, 32, 2, activation='relu')\n",
    "convnet = max_pool_2d(convnet, 2)\n",
    "\n",
    "convnet = conv_2d(convnet, 64, 2, activation='relu')\n",
    "convnet = max_pool_2d(convnet, 2)\n",
    "\n",
    "convnet = conv_2d(convnet, 32, 2, activation='relu')\n",
    "convnet = max_pool_2d(convnet, 2)\n",
    "\n",
    "convnet = conv_2d(convnet, 64, 2, activation='relu')\n",
    "convnet = max_pool_2d(convnet, 2)\n",
    "\n",
    "convnet = conv_2d(convnet, 32, 2, activation='relu')\n",
    "convnet = max_pool_2d(convnet, 2)\n",
    "\n",
    "convnet = conv_2d(convnet, 64, 2, activation='relu')\n",
    "convnet = max_pool_2d(convnet, 2)\n",
    "\n",
    "convnet = fully_connected(convnet, 1024, activation='relu')\n",
    "convnet = dropout(convnet, 0.8)\n",
    "\n",
    "convnet = fully_connected(convnet, 2, activation='softmax')\n",
    "convnet = regression(convnet, optimizer='adam', learning_rate=LR, loss='categorical_crossentropy', name='targets')\n",
    "\n",
    "model = tflearn.DNN(convnet,tensorboard_dir='log')\n"
   ]
  },
  {
   "cell_type": "code",
   "execution_count": null,
   "id": "d56fca45",
   "metadata": {},
   "outputs": [],
   "source": [
    "if os.path.exists('{}'.format(MODEL_NAME)):\n",
    "    model.load(MODEL_NAME)\n",
    "    print('model loaded!')"
   ]
  },
  {
   "cell_type": "code",
   "execution_count": null,
   "id": "aadf5684",
   "metadata": {},
   "outputs": [],
   "source": [
    "train = train_data[:-400]\n",
    "test = train_data[-400:]"
   ]
  },
  {
   "cell_type": "code",
   "execution_count": null,
   "id": "68e78fb4",
   "metadata": {},
   "outputs": [],
   "source": [
    "x = np.array([i[0]for i in train]).reshape(-1, IMG_SIZE, IMG_SIZE, 1)\n",
    "y = [i[1]for i in train]\n",
    "\n",
    "test_x = np.array([i[0]for i in test]).reshape(-1, IMG_SIZE, IMG_SIZE, 1)\n",
    "test_y = [i[1]for i in test] \n"
   ]
  },
  {
   "cell_type": "code",
   "execution_count": null,
   "id": "5efb8a7b",
   "metadata": {},
   "outputs": [],
   "source": [
    "model.fit({'input': X}, {'targets': Y}, n_epoch=5, validation_set=({'input': test_x}, {'targets': test_y}), \n",
    "    snapshot_step=500, show_metric=True, run_id= MODEL_NAME)"
   ]
  },
  {
   "cell_type": "code",
   "execution_count": null,
   "id": "55f7b198",
   "metadata": {},
   "outputs": [],
   "source": [
    "model.save(MODEL_NAME)"
   ]
  },
  {
   "cell_type": "code",
   "execution_count": null,
   "id": "deca9cee",
   "metadata": {},
   "outputs": [],
   "source": [
    "import matplotlib.pyplot as plt\n",
    "test_data = process_test_data()\n",
    "fig = plt.figure()\n",
    "\n",
    "for num, data in enumerate(test_data[:12]):\n",
    "    img_num = data[1]\n",
    "    img_data = data[0]\n",
    "    \n",
    "    y = fig.add_subplot(3,4,num+1)\n",
    "    orig = img_data\n",
    "    data = img_data.reshape(IMG_SIZE, IMG_SIZE, 1)\n",
    "    \n",
    "    model_out = model.predict([data])[0]\n",
    "    \n",
    "    if np.argmax(model_out) == 1: str_label= 'rabbit'\n",
    "        else str_label = 'hare'\n",
    "        \n",
    "        y.imshow(orig, cmap= 'gray')\n",
    "        plt.title(str_label)\n",
    "        y.axes.get_xaxis().set_visible(False)\n",
    "        y.axes.get_yaxis().set_visible(False)\n",
    "    plt.show()"
   ]
  },
  {
   "cell_type": "code",
   "execution_count": null,
   "id": "90e5ab45",
   "metadata": {},
   "outputs": [],
   "source": [
    "with open('submmission-file.csv', 'w')as f:\n",
    "    f.writ('id,label\\n')"
   ]
  },
  {
   "cell_type": "code",
   "execution_count": null,
   "id": "8d015211",
   "metadata": {},
   "outputs": [],
   "source": [
    "with open('submmission-file.csv', 'w')as f:\n",
    "    for data in tqdm(test_data):\n",
    "    img_num = data[1]\n",
    "    img_data = data[0]\n",
    "    orig = img_data\n",
    "    data = img_data.reshape(IMG_SIZE, IMG_SIZE, 1)\n",
    "    model_out = model.predict([data])[0]\n",
    "    f.write('{},{}\\n'.format(img_num, model_out[1]))"
   ]
  }
 ],
 "metadata": {
  "kernelspec": {
   "display_name": "Python 3 (ipykernel)",
   "language": "python",
   "name": "python3"
  },
  "language_info": {
   "codemirror_mode": {
    "name": "ipython",
    "version": 3
   },
   "file_extension": ".py",
   "mimetype": "text/x-python",
   "name": "python",
   "nbconvert_exporter": "python",
   "pygments_lexer": "ipython3",
   "version": "3.9.7"
  }
 },
 "nbformat": 4,
 "nbformat_minor": 5
}
